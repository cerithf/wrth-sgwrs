{
 "cells": [
  {
   "cell_type": "code",
   "execution_count": 2,
   "id": "24cdb337",
   "metadata": {},
   "outputs": [],
   "source": [
    "page_text = {\n",
    "    'en': {\n",
    "        'body': '''## Welcome to _Wrth Sgwrs_\n",
    "\n",
    "Wrth Sgwrs is a resource to help you practise speaking Welsh in a simple, accessible way. You can use the app to have short conversations with an AI in Welsh, giving you a chance to try out everyday language and build your confidence speaking Welsh.\n",
    "\n",
    "There are grammar resources available to help you check your understanding and make sure what you're learning is accurate. If you need to check a word or phrase quickly, there’s also a quick translate option. Please remember that AI responses and translations aren’t always perfect, and this app isn’t a replacement for real conversations — it’s here to support your learning by giving you another opportunity to practise.\n",
    "''',\n",
    "        'login_subheader': 'Log in with the button below!',\n",
    "        'login_button': 'Log in with Google',\n",
    "        'guest_login_button': 'Log in as a guest'\n",
    "    },\n",
    "    'cy': {\n",
    "        'body':    '''## Croeso i _Wrth Sgwrs_\n",
    "                \n",
    "    Mae Wrth Sgwrs yn adnodd i dy helpu di ymarfer siarad Cymraeg mewn ffordd syml ac anffurfiol. Elli di ddefnyddio'r ap i gael sgyrsiau byr gyda AI yn Gymraeg er mwyn ymarfer defnyddio iaith bob dydd a chryfhau dy hyder wrth ddefnyddio'r Gymraeg.\n",
    "                    \n",
    "    Mae adnoddau gramadegol ar gael i ti wirio dy ddealltwriaeth a sicrhau cywirdeb yn beth rwyt ti'n ei ddysgu. Hefyd, mae cyfieithydd cyflym yma i ti gyfieithu gair neu frawddeg yn glou. Cofia nad yw atebion na chyfieithiadau AI yn berffaith bob tro, ac nid modd yr ap hon yw disodli sgyrsiau go iawn – mae hi yma i gefnogi dy ddysgu gan roi cyfle i ti i ymarfer.\n",
    "    ''',\n",
    "        'login_subheader': 'Mewnfudwch â\\'r botwm isod!',\n",
    "        'login_button': 'Mewnfudwch â Google',\n",
    "        'guest_login_button': 'Mewnfudwch fel ymwelwr'\n",
    "    }\n",
    "}\n",
    "\n",
    "import json\n",
    "\n",
    "with open('about_page_text.json', 'w') as file:\n",
    "    json.dump(page_text,file,indent=2)"
   ]
  },
  {
   "cell_type": "code",
   "execution_count": null,
   "id": "7c407407",
   "metadata": {},
   "outputs": [],
   "source": []
  }
 ],
 "metadata": {
  "kernelspec": {
   "display_name": "base",
   "language": "python",
   "name": "python3"
  },
  "language_info": {
   "codemirror_mode": {
    "name": "ipython",
    "version": 3
   },
   "file_extension": ".py",
   "mimetype": "text/x-python",
   "name": "python",
   "nbconvert_exporter": "python",
   "pygments_lexer": "ipython3",
   "version": "3.12.2"
  }
 },
 "nbformat": 4,
 "nbformat_minor": 5
}
