{
 "cells": [
  {
   "cell_type": "code",
   "execution_count": null,
   "id": "38fa6dff",
   "metadata": {},
   "outputs": [
    {
     "data": {
      "text/plain": [
       "['### **1. Introducing Yourself**\\n',\n",
       " '\\n',\n",
       " 'Hello! My name is Sarah. I am 22 years old, and I come from Spain. I live in a small town near Madrid with my parents and younger brother. I am a student at the university, and I study English and history. I enjoy learning new languages because I want to travel and speak with people from other countries. I speak Spanish and a little French. I also work part-time at a bookshop. I like helping people find books. In my free time, I enjoy reading, walking in the park, and listening to music. I also enjoy meeting my friends for coffee. I am friendly, and I like talking to new people. My favorite color is blue, and I love animals, especially cats. I want to learn more English to speak better and travel to English-speaking countries. That is a little about me. Nice to meet you!\\n',\n",
       " '\\n',\n",
       " '---\\n',\n",
       " '\\n',\n",
       " '### **2. Family**\\n',\n",
       " '\\n',\n",
       " 'I have a small but happy family. There are four people in my family: my mother, my father, my sister, and me. My mother is a teacher, and my father is a driver. My sister is younger than me. She is 10 years old, and I am 14. We live together in a flat in the city. We like spending time together. On weekends, we watch movies or go to the park. My grandmother lives in another town, and we visit her every month. She is very kind and makes delicious food. I love my family very much. We help each other, and we talk every day. My parents are very supportive and always help me with school. My sister and I play games and do homework together. I am happy to have a family that cares for me. My family is the most important thing in my life.\\n',\n",
       " '\\n',\n",
       " '---\\n',\n",
       " '\\n',\n",
       " '### **3. Hobbies & Free Time**\\n',\n",
       " '\\n',\n",
       " 'In my free time, I like doing many things. My favorite hobby is playing football with my friends. We play at the park every Saturday. I also enjoy listening to music, especially pop music. I listen to music every day when I do my homework or relax. Sometimes, I read books or watch TV. I like funny shows and cartoons. On weekends, I go for a walk or ride my bike. It helps me feel fresh and happy. I also like drawing. I draw pictures of animals and people. It is fun and creative. I don’t like to be bored, so I always try to do something. Sometimes I help my parents at home or play with my little brother. Hobbies are fun and help me learn new things. I think everyone should have a hobby. It makes life more interesting and enjoyable.\\n',\n",
       " '\\n',\n",
       " '---\\n',\n",
       " '\\n',\n",
       " '### **4. Daily Routine**\\n',\n",
       " '\\n',\n",
       " 'My daily routine is simple. I wake up at 7:00 in the morning. Then, I brush my teeth and take a shower. After that, I eat breakfast. I usually have toast and tea. At 8:00, I go to school. I have classes from 8:30 to 3:00. I learn English, math, science, and more. After school, I go home and eat lunch. Then, I do my homework. In the evening, I like to relax. Sometimes I watch TV or play games. At 7:00, I eat dinner with my family. We talk and laugh together. After dinner, I read a book or listen to music. I go to bed at 10:00. I like my routine because it helps me stay organized. On weekends, my routine is different. I sleep late and go out with my friends or family. I think having a routine is good for me.\\n',\n",
       " '\\n',\n",
       " '---\\n',\n",
       " '\\n',\n",
       " '### **5. Weather**\\n',\n",
       " '\\n',\n",
       " 'The weather is different every day. Sometimes it is sunny, and sometimes it is rainy. In my country, summer is very hot. The sun shines, and the sky is blue. People wear light clothes and go to the beach or swimming pool. In winter, it is cold. I wear a coat, gloves, and a scarf. Sometimes it snows, and everything looks white. I like snow because I can play in it. In spring, the weather is warm, and flowers start to grow. It is a nice time for walks. Autumn is cool and windy. The leaves on the trees turn red and yellow. I like autumn because it is not too hot or too cold. I check the weather before I go out so I know what to wear. The weather can change quickly, so it is good to be prepared. I enjoy talking about the weather with friends.\\n',\n",
       " '\\n',\n",
       " '---\\n',\n",
       " '\\n',\n",
       " '### **6. Food & Drink**\\n',\n",
       " '\\n',\n",
       " 'I love food and trying new things. My favorite food is pizza. I like it with cheese, tomato, and mushrooms. I also enjoy pasta, rice, and chicken. For breakfast, I usually eat bread with butter and drink tea or juice. At lunch, I eat something hot, like soup or meat with vegetables. For dinner, I eat something light, like a sandwich or salad. I like fruit, especially apples, bananas, and grapes. I don’t like spicy food very much, but I will try a little. I also enjoy sweet things like cake and chocolate, but I don’t eat them every day. My favorite drink is orange juice. I drink water during the day to stay healthy. I sometimes help my mother cook at home. It is fun, and I learn a lot. Eating good food is important for health, and I try to eat a mix of everything.\\n',\n",
       " '\\n',\n",
       " '---\\n',\n",
       " '\\n',\n",
       " '### **7. Colours**\\n',\n",
       " '\\n',\n",
       " 'There are many colours in the world, and I like them all. My favourite colour is green because it reminds me of trees and nature. I also like blue because it looks like the sky and the ocean. Colours are everywhere – in our clothes, our houses, and the things we use every day. Some colours are bright like yellow and red. Others are dark like black or brown. I use colours when I draw or paint pictures. Colours help us show our feelings. Red can mean love, and blue can mean calm. In school, we learn about mixing colours. If you mix red and blue, you get purple. I think that is fun. My room is painted white, but I want to add more colour with posters and pictures. Colours make life more interesting and beautiful. What is your favourite colour?\\n',\n",
       " '\\n',\n",
       " '---\\n',\n",
       " '\\n',\n",
       " '### **8. Clothes**\\n',\n",
       " '\\n',\n",
       " 'I wear different clothes depending on the weather and the day. In summer, I wear light clothes like T-shirts, shorts, and sandals because it is hot. In winter, I wear warm clothes like jackets, sweaters, and boots. When I go to school, I wear my school uniform. On weekends, I wear jeans and a hoodie. My favourite piece of clothing is my red sweater. It is soft and warm. I wear it when I feel cold. I also like wearing hats and scarves in winter. At home, I wear comfortable clothes like pajamas or sportswear. When it rains, I wear a raincoat and take an umbrella. I like going shopping for clothes with my family. We look at shirts, trousers, and shoes. I think clothes are important because they protect us and show our style. Everyone has their own style, and that’s what makes it fun.\\n',\n",
       " '\\n',\n",
       " '---\\n',\n",
       " '\\n',\n",
       " '### **9. Numbers**\\n',\n",
       " '\\n',\n",
       " 'Numbers are everywhere. We use numbers every day. We use them to tell the time, count money, and say our age. I can count from 1 to 100 in English. I am 15 years old. I wake up at 7:00 in the morning and go to school at 8:00. In class, we use numbers in math, science, and English. At the shop, I use money to buy things. If something costs \\\\$3 and I have \\\\$5, I get \\\\$2 back. Numbers help us understand how much, how many, and when. My phone number has 10 digits. My birthday is on May 4th. That is also a number. I like playing games with numbers like Sudoku or puzzles. I also use numbers when I cook or measure things. I think learning numbers is very useful. They help us every day in small and big ways.\\n',\n",
       " '\\n',\n",
       " '---\\n',\n",
       " '\\n',\n",
       " '### **10. Places in Town**\\n',\n",
       " '\\n',\n",
       " 'There are many places in my town. I live in a small town, but it has everything I need. There is a school, a supermarket, a park, and a library. I go to school every day. After school, I sometimes go to the library to read or do homework. On weekends, I go to the park with my friends. We play football or just walk around. My family goes to the supermarket to buy food. There is also a post office, a bank, and a hospital in my town. If I feel sick, I go to the hospital. Sometimes, we eat at a restaurant. My favourite place is the bakery. I love the smell of fresh bread. The people in my town are friendly. I like living here because everything is close, and I feel safe. I know where everything is, and that makes life easy.\\n',\n",
       " '\\n',\n",
       " '---\\n',\n",
       " '\\n',\n",
       " '### **11. Countries & Travel**\\n',\n",
       " '\\n',\n",
       " 'I love learning about different countries. I live in Brazil, and it is a big and beautiful country. We have beaches, forests, and big cities. I want to travel to other countries in the future. I would like to visit the United States, Japan, and Italy. I want to see famous places, try new food, and meet new people. When you travel, you learn about different cultures and languages. It is exciting to see how people live in other places. I have never been on a plane, but I hope to travel one day. My cousin went to France, and she told me many interesting stories. I also look at maps and watch travel videos to learn more. Traveling helps you understand the world better. Even if I don’t travel now, I can still dream. One day, I hope to visit many countries and learn new things.\\n',\n",
       " '\\n',\n",
       " '---\\n',\n",
       " '\\n',\n",
       " \"Let me know if you'd like these adapted for a younger age group or turned into writing practice worksheets!\\n\"]"
      ]
     },
     "execution_count": 1,
     "metadata": {},
     "output_type": "execute_result"
    }
   ],
   "source": [
    "with open('paragraphs.md') as file:\n",
    "    text = file.readlines()\n",
    "\n",
    "data = {}\n",
    "for line in t"
   ]
  }
 ],
 "metadata": {
  "kernelspec": {
   "display_name": "base",
   "language": "python",
   "name": "python3"
  },
  "language_info": {
   "codemirror_mode": {
    "name": "ipython",
    "version": 3
   },
   "file_extension": ".py",
   "mimetype": "text/x-python",
   "name": "python",
   "nbconvert_exporter": "python",
   "pygments_lexer": "ipython3",
   "version": "3.12.2"
  }
 },
 "nbformat": 4,
 "nbformat_minor": 5
}
